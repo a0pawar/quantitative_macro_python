{
 "cells": [
  {
   "cell_type": "code",
   "execution_count": 14,
   "id": "664f3943-7ee8-48c3-bbc4-a881ec8ece1d",
   "metadata": {},
   "outputs": [],
   "source": [
    "import numpy as np\n",
    "import matplotlib.pyplot as plt\n",
    "import scipy\n",
    "import random\n",
    "import statsmodels.api as sm\n",
    "from collections import namedtuple\n",
    "import pandas as pd\n",
    "import math\n",
    "from scipy.optimize import minimize"
   ]
  },
  {
   "cell_type": "markdown",
   "id": "14386da5-29be-40db-9ec5-b57b1dec01e4",
   "metadata": {},
   "source": [
    "### Week 3 \n"
   ]
  },
  {
   "cell_type": "markdown",
   "id": "df8dc4b7-8076-4ce0-a36b-6620a8ca22a3",
   "metadata": {},
   "source": [
    "Simulate AR(1) process and plotting the empirical 5 % autocorrelation function"
   ]
  },
  {
   "cell_type": "code",
   "execution_count": 2,
   "id": "b5de03f4-cefd-4cc4-909c-fe0ff8e1e449",
   "metadata": {},
   "outputs": [],
   "source": [
    "phi = np.array([-0.8, 0.4, 0.9, 1.01]).reshape(1,4)\n",
    "c = 2\n",
    "sigma = 1\n",
    "\n",
    "T = 200\n",
    "\n",
    "x = np.zeros((T,phi.shape[1]))\n",
    "x[0,:] = c/(1- phi) ## setting first row as unconditional mean\n",
    "\n",
    "for j in range(phi.shape[1]):\n",
    "    for t in range(1,T):\n",
    "        x[t,j] = phi[0,j]*x[t-1,j] + np.random.normal()*sigma"
   ]
  },
  {
   "cell_type": "code",
   "execution_count": 3,
   "id": "f62e83ef-0685-4c6f-b850-df52b1b6995d",
   "metadata": {},
   "outputs": [
    {
     "data": {
      "text/plain": [
       "(200, 4)"
      ]
     },
     "execution_count": 3,
     "metadata": {},
     "output_type": "execute_result"
    }
   ],
   "source": [
    "x.shape"
   ]
  },
  {
   "cell_type": "code",
   "execution_count": 4,
   "id": "e6f30f41-2417-4594-926c-296464ac293b",
   "metadata": {},
   "outputs": [
    {
     "data": {
      "image/png": "[encoded data removed]",
      "text/plain": [
       "<Figure size 432x288 with 4 Axes>"
      ]
     },
     "metadata": {
      "needs_background": "light"
     },
     "output_type": "display_data"
    }
   ],
   "source": [
    "##plotting ACF\n",
    "lags = range(8)\n",
    "fig,ax = plt.subplots(2,2)\n",
    "ax = ax.ravel()\n",
    "\n",
    "for i,ax_i in enumerate(ax):\n",
    "    ax_i.bar(np.arange(len(lags)), sm.tsa.acf(x[:,i], nlags = len(lags)-1))\n"
   ]
  },
  {
   "cell_type": "code",
   "execution_count": 5,
   "id": "364ecc4f-88c7-4283-b5bf-e241da782a4e",
   "metadata": {},
   "outputs": [],
   "source": [
    "## function to generate error bands\n",
    "\n",
    "def rhohat(y,lags,conf_int):\n",
    "    T = len(y)\n",
    "    y_demeaned = y - np.mean(y)\n",
    "    \n",
    "    ac = np.zeros(lags+1)\n",
    "    var = np.var(y)\n",
    "    \n",
    "    for i in range(lags+1):\n",
    "        if i == 0:\n",
    "            ac[i] = 1\n",
    "        else:\n",
    "            ac[i] = np.sum((y_demeaned[i:]) * (y_demeaned[:-i])) / ((T) * var)\n",
    "        \n",
    "    critval = scipy.stats.norm.ppf(1-conf_int/2)\n",
    "    ul = np.tile(critval/np.sqrt(T), lags)\n",
    "    ll = -1*ul\n",
    "    \n",
    "    return ac[1:],ul,ll"
   ]
  },
  {
   "cell_type": "code",
   "execution_count": 6,
   "id": "d30ab16e-fbd3-4d89-acbe-6ea711361c03",
   "metadata": {},
   "outputs": [
    {
     "data": {
      "image/png": "[encoded data removed]",
      "text/plain": [
       "<Figure size 432x288 with 4 Axes>"
      ]
     },
     "metadata": {
      "needs_background": "light"
     },
     "output_type": "display_data"
    }
   ],
   "source": [
    "##plotting ACF\n",
    "lags = range(8)\n",
    "fig,ax = plt.subplots(2,2)\n",
    "ax = ax.ravel()\n",
    "\n",
    "for i,ax_i in enumerate(ax):\n",
    "    ac,ul,ll = rhohat(x[:,i],8,0.05)\n",
    "    ax_i.bar(np.arange(1,len(lags)+1), ac)\n",
    "    ax_i.plot(np.arange(1,len(lags)+1), ul, ls = '--', c = 'k')\n",
    "    ax_i.plot(np.arange(1,len(lags)+1), ll, ls = '--', c = 'k')"
   ]
  },
  {
   "cell_type": "markdown",
   "id": "4397c120-ec28-4af9-a9e0-697c29542eec",
   "metadata": {},
   "source": [
    "### Week 4 "
   ]
  },
  {
   "cell_type": "markdown",
   "id": "4d2bf4f1-28e2-4f48-b614-25722cc2151b",
   "metadata": {},
   "source": [
    "Write a function OLS = ARpOLS(y,p,const,alpha) that takes as inputs a data vector y and number of lags p. The input const is 1 if there is a constant in the model, 2 if there is a constant and a linear trend. The function outputs a structure OLS, which contains the OLS estimates of θ, its standard errors, t-statistics and p-values given significance value $\\alpha$, as well as the OLS estimate of $\\sigma_u$."
   ]
  },
  {
   "cell_type": "code",
   "execution_count": 7,
   "id": "1687ef7c-9f0c-4276-8f08-1b840022b015",
   "metadata": {},
   "outputs": [],
   "source": [
    "## helper functions\n",
    "\n",
    "def lagmatrix(x,p):\n",
    "    \"\"\"\n",
    "    Creates a matrix of lagged values from 1D array.\n",
    "    Input:\n",
    "    x = 1D array\n",
    "    p = number of lags\n",
    "    \n",
    "    Output:\n",
    "    lagmat = A matrix with p columns and rows equal to length of x\n",
    "    \"\"\"\n",
    "    lagmat = np.zeros((x.shape[0],p))\n",
    "    for i in range(p):\n",
    "        lagmat[i+1:,i] = x[:-i-1]\n",
    "    return lagmat"
   ]
  },
  {
   "cell_type": "code",
   "execution_count": 8,
   "id": "aa93c156-2890-42a7-a116-a7ab9893f2e1",
   "metadata": {},
   "outputs": [],
   "source": [
    "def ARpOLS(y,p,const,alpha):\n",
    "    T = y.shape[0]\n",
    "    T_eff = T-p\n",
    "    Y = lagmatrix(y,p) \n",
    "    if const == 1:\n",
    "        Y = np.concatenate([np.ones(T)[:, np.newaxis], Y], axis = 1)\n",
    "    else:\n",
    "        Y = np.concatenate([np.ones(T)[:, np.newaxis], np.arange(1,T+1)[:, np.newaxis], Y], axis = 1)\n",
    "    Y = Y[p:,:]\n",
    "    y = y[p:]\n",
    "    \n",
    "    YtYinv = np.linalg.inv(Y.T@Y)\n",
    "    thetahat = YtYinv@(Y.T@y)\n",
    "    yhat = Y@thetahat\n",
    "    uhat = y - yhat\n",
    "    utu = uhat.T@uhat\n",
    "    \n",
    "    var_uhat = utu/(T_eff - p - const)\n",
    "    siguhat = np.sqrt(var_uhat)\n",
    "    var_thetahat = var_uhat*(np.diag(YtYinv))\n",
    "    sd_thetahat = np.sqrt(var_thetahat)\n",
    "    \n",
    "    tstat = thetahat/sd_thetahat # t−statistics\n",
    "    tcrit = -1*scipy.stats.t.ppf(alpha/2, T_eff-p-const) # critical value\n",
    "    pvalues = scipy.stats.t.pdf(tstat,T_eff-p-const) # p−value\n",
    "    theta_ci=(thetahat - tcrit*sd_thetahat, thetahat+tcrit*sd_thetahat)\n",
    "    \n",
    "    return {\"T_eff\": T_eff, \n",
    "            \"thetahat\" : thetahat, \n",
    "            \"siguhat\" : siguhat, \n",
    "            \"sd_thetahat\" : sd_thetahat,\n",
    "            \"tstat\" : tstat,\n",
    "            \"pvalues\" : pvalues,\n",
    "            \"theta_ci\" : theta_ci,\n",
    "            \"resid\" : uhat}"
   ]
  },
  {
   "cell_type": "code",
   "execution_count": 9,
   "id": "1f3d8f36-1721-4236-8d09-3c72f10bddc8",
   "metadata": {},
   "outputs": [
    {
     "data": {
      "text/html": [
       "<div>\n",
       "<style scoped>\n",
       "    .dataframe tbody tr th:only-of-type {\n",
       "        vertical-align: middle;\n",
       "    }\n",
       "\n",
       "    .dataframe tbody tr th {\n",
       "        vertical-align: top;\n",
       "    }\n",
       "\n",
       "    .dataframe thead th {\n",
       "        text-align: right;\n",
       "    }\n",
       "</style>\n",
       "<table border=\"1\" class=\"dataframe\">\n",
       "  <thead>\n",
       "    <tr style=\"text-align: right;\">\n",
       "      <th></th>\n",
       "      <th>AR4;</th>\n",
       "    </tr>\n",
       "  </thead>\n",
       "  <tbody>\n",
       "    <tr>\n",
       "      <th>0</th>\n",
       "      <td>1.6150</td>\n",
       "    </tr>\n",
       "    <tr>\n",
       "      <th>1</th>\n",
       "      <td>2.8231</td>\n",
       "    </tr>\n",
       "    <tr>\n",
       "      <th>2</th>\n",
       "      <td>2.9714</td>\n",
       "    </tr>\n",
       "  </tbody>\n",
       "</table>\n",
       "</div>"
      ],
      "text/plain": [
       "     AR4;\n",
       "0  1.6150\n",
       "1  2.8231\n",
       "2  2.9714"
      ]
     },
     "execution_count": 9,
     "metadata": {},
     "output_type": "execute_result"
    }
   ],
   "source": [
    "data = pd.read_csv('data/AR4.csv')\n",
    "data['AR4;'] = data['AR4;'].apply(lambda x: float(x[:-1])) \n",
    "data.head(3)"
   ]
  },
  {
   "cell_type": "code",
   "execution_count": 10,
   "id": "80f81ecc-8b58-4619-ac2c-2ff7c9613043",
   "metadata": {},
   "outputs": [],
   "source": [
    "OLS = ARpOLS(data.values.reshape((195,)), 4, const = 1, alpha = 0.05)"
   ]
  },
  {
   "cell_type": "code",
   "execution_count": 11,
   "id": "c6ed46c5-ab83-4e14-a4c0-39f797465d3d",
   "metadata": {},
   "outputs": [
    {
     "data": {
      "text/plain": [
       "array([ 1.05383917,  0.39610127, -0.05732461,  0.02828328, -0.18756322])"
      ]
     },
     "execution_count": 11,
     "metadata": {},
     "output_type": "execute_result"
    }
   ],
   "source": [
    "OLS['thetahat']"
   ]
  },
  {
   "cell_type": "code",
   "execution_count": 16,
   "id": "d08d1970-2371-4e8b-8cc5-b543cbff4f5d",
   "metadata": {},
   "outputs": [
    {
     "data": {
      "text/plain": [
       "0.504673056885094"
      ]
     },
     "execution_count": 16,
     "metadata": {},
     "output_type": "execute_result"
    }
   ],
   "source": [
    "OLS['siguhat']"
   ]
  },
  {
   "attachments": {},
   "cell_type": "markdown",
   "id": "18d38c9e",
   "metadata": {},
   "source": [
    "Write a function LogLikeARpNorm(x,y,p,const) that computes the value of the log-likelihood conditional on the first p observations of a Gaussian AR(p) model, y denotes the data vector, p the number of lags and const is equal to 1 if there is a constant, and equal to 2 if there is a constant and linear trend in the model."
   ]
  },
  {
   "cell_type": "code",
   "execution_count": 15,
   "id": "fb81be6b-11ea-4117-a9a1-ff0c71dabedf",
   "metadata": {},
   "outputs": [],
   "source": [
    "def loglikARpNorm(x,y,p,const):\n",
    "    \n",
    "    theta = x[:const+p]\n",
    "    sig_u = x[const+p]\n",
    "    \n",
    "    \n",
    "    T = y.shape[0]\n",
    "    Y = lagmatrix(y,p)\n",
    "\n",
    "    if const == 1:\n",
    "        Y = np.concatenate([np.ones(T)[:, np.newaxis], Y], axis = 1)\n",
    "    else:\n",
    "        Y = np.concatenate([np.ones(T)[:, np.newaxis], np.arange(1,T+1)[:, np.newaxis], Y], axis = 1)\n",
    "    Y = Y[p:,:]\n",
    "    y = y[p:]\n",
    "\n",
    "    uhat = y - y*theta\n",
    "    utu = uhat.T@uhat\n",
    "\n",
    "    loglik = -np.log(2*math.pi)*(T-p)/2 - np.log(sig_u**2)*(T-p)/2 - utu/(2*sig_u**2)\n",
    "\n",
    "    if math.isna(loglik) or math.isinf(loglik) or ~np.isreal(loglik):\n",
    "        loglik = -1e10\n",
    "\n",
    "    return -1*loglik"
   ]
  },
  {
   "cell_type": "code",
   "execution_count": 16,
   "id": "39886dca",
   "metadata": {},
   "outputs": [],
   "source": [
    "def ARpML(y,p,const,alpha):\n",
    "\n",
    "    T = y.shape[0]\n",
    "\n",
    "    initial_params = np.random.randn(p+const);\n",
    "    result = minimize(LogLikeARpNorm, initial_params, method='BFGS', options={'disp': True, 'maxiter': 1000, 'xtol': 1e-8, 'ftol': 1e-8, 'return_all': True})\n",
    "    thetatilde, sigutilde = result.x[:p+const], result.x[p+const]\n",
    "\n",
    "    V = result.hess_inv \n",
    "\n",
    "    sd = np.sqrt(np.diag(V))\n",
    "    sd_thetatilde = sd[:p+const]\n",
    "    sd_sigmautilde = sd[p+const]\n",
    "\n",
    "    T_eff = T-p\n",
    "    logl = -1*result.fun\n",
    "\n",
    "    tstat = thetahat/sd_thetahat # t−statistics\n",
    "    tcrit = -1*scipy.stats.t.ppf(alpha/2, T_eff-p-const) # critical value\n",
    "    pvalues = scipy.stats.t.pdf(tstat,T_eff-p-const) # p−value\n",
    "    theta_ci=(thetahat - tcrit*sd_thetahat, thetahat+tcrit*sd_thetahat)\n",
    "    \n",
    "    return {\"T_eff\": T_eff, \n",
    "            \"thetatilde\" : thetatilde, \n",
    "            \"sigutilde\" : sigutilde, \n",
    "            \"sd_thetatilde\" : sd_thetatilde,\n",
    "            \"sd_sigmautilde\" : sd_sigmautilde,\n",
    "            \"tstat\" : tstat,\n",
    "            \"pvalues\" : pvalues,\n",
    "            \"theta_ci\" : theta_ci,\n",
    "            \"logl\" : logl}"
   ]
  },
  {
   "cell_type": "code",
   "execution_count": null,
   "id": "e67de609",
   "metadata": {},
   "outputs": [],
   "source": []
  }
 ],
 "metadata": {
  "kernelspec": {
   "display_name": "Python 3",
   "language": "python",
   "name": "python3"
  },
  "language_info": {
   "codemirror_mode": {
    "name": "ipython",
    "version": 3
   },
   "file_extension": ".py",
   "mimetype": "text/x-python",
   "name": "python",
   "nbconvert_exporter": "python",
   "pygments_lexer": "ipython3",
   "version": "3.10.1"
  },
  "vscode": {
   "interpreter": {
    "hash": "e0e187b7d9f1d35e37f9cbb7996faedc3d0c0915eb2dd9597e53ef576c9072f3"
   }
  }
 },
 "nbformat": 4,
 "nbformat_minor": 5
}
